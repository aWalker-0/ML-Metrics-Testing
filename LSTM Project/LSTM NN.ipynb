{
 "cells": [
  {
   "cell_type": "code",
   "execution_count": 1,
   "id": "dbf33d68",
   "metadata": {},
   "outputs": [],
   "source": [
    "# import pandas as pd\n",
    "# import numpy as np\n",
    "# import os\n",
    "# filePath = r\"UCI HAR Dataset/train/Inertial Signals/\"\n",
    "# mainDir = r\"UCI HAR Dataset/\"\n",
    "# trainGroup = \"train\"\n",
    "# testGroup = \"test\"\n",
    "# fileList = os.listdir(filePath)\n",
    "# fileList"
   ]
  },
  {
   "cell_type": "code",
   "execution_count": 2,
   "id": "6ded4dd9",
   "metadata": {},
   "outputs": [],
   "source": [
    "# lstm model\n",
    "from numpy import mean\n",
    "from numpy import std\n",
    "from numpy import dstack\n",
    "from pandas import read_csv\n",
    "from keras.models import Sequential\n",
    "from keras.layers import Dense\n",
    "from keras.layers import Flatten\n",
    "from keras.layers import Dropout\n",
    "from keras.layers import LSTM\n",
    "from keras.utils.np_utils import to_categorical\n",
    "from keras import metrics\n",
    "from matplotlib import pyplot\n",
    "import tensorflow as tf"
   ]
  },
  {
   "cell_type": "code",
   "execution_count": 13,
   "id": "e3faa88a",
   "metadata": {
    "scrolled": true
   },
   "outputs": [
    {
     "name": "stdout",
     "output_type": "stream",
     "text": [
      "(7352, 128, 9) (7352, 1)\n",
      "(2947, 128, 9) (2947, 1)\n",
      "(7352, 128, 9) (7352, 6) (2947, 128, 9) (2947, 6)\n",
      "Epoch 1/8\n",
      "115/115 [==============================] - 12s 78ms/step - loss: 1.4396 - accuracy: 0.3822 - val_loss: 1.1202 - val_accuracy: 0.5151\n",
      "Epoch 2/8\n",
      "115/115 [==============================] - 8s 68ms/step - loss: 1.1168 - accuracy: 0.5150 - val_loss: 0.8288 - val_accuracy: 0.6749\n",
      "Epoch 3/8\n",
      "115/115 [==============================] - 8s 70ms/step - loss: 0.6880 - accuracy: 0.7094 - val_loss: 0.7571 - val_accuracy: 0.7136\n",
      "Epoch 4/8\n",
      "115/115 [==============================] - 8s 70ms/step - loss: 0.5326 - accuracy: 0.7901 - val_loss: 0.8956 - val_accuracy: 0.6620\n",
      "Epoch 5/8\n",
      "115/115 [==============================] - 8s 69ms/step - loss: 0.5905 - accuracy: 0.7768 - val_loss: 0.5885 - val_accuracy: 0.8032\n",
      "Epoch 6/8\n",
      "115/115 [==============================] - 8s 68ms/step - loss: 0.3495 - accuracy: 0.8727 - val_loss: 0.5129 - val_accuracy: 0.8507\n",
      "Epoch 7/8\n",
      "115/115 [==============================] - 8s 68ms/step - loss: 0.2614 - accuracy: 0.9054 - val_loss: 0.4318 - val_accuracy: 0.8799\n",
      "Epoch 8/8\n",
      "115/115 [==============================] - 8s 68ms/step - loss: 0.1866 - accuracy: 0.9304 - val_loss: 0.3246 - val_accuracy: 0.8931\n",
      "47/47 [==============================] - 1s 20ms/step - loss: 0.3246 - accuracy: 0.8931\n"
     ]
    }
   ],
   "source": [
    "# load a single file as a numpy array\n",
    "def load_file(filepath):\n",
    "\tdataframe = read_csv(filepath, header=None, delim_whitespace=True)\n",
    "\treturn dataframe.values\n",
    "\n",
    "# load a list of files and return as a 3d numpy array\n",
    "def load_group(filenames, prefix=''):\n",
    "\tloaded = list()\n",
    "\tfor name in filenames:\n",
    "\t\tdata = load_file(prefix + name)\n",
    "\t\tloaded.append(data)\n",
    "\t# stack group so that features are the 3rd dimension\n",
    "\tloaded = dstack(loaded)\n",
    "\treturn loaded\n",
    "\n",
    "# load a dataset group, such as train or test\n",
    "def load_dataset_group(group, prefix=''):\n",
    "\tfilepath = prefix + group + '/Inertial Signals/'\n",
    "\t# load all 9 files as a single array\n",
    "\tfilenames = list()\n",
    "\t# total acceleration\n",
    "\tfilenames += ['total_acc_x_'+group+'.txt', 'total_acc_y_'+group+'.txt', 'total_acc_z_'+group+'.txt']\n",
    "\t# body acceleration\n",
    "\tfilenames += ['body_acc_x_'+group+'.txt', 'body_acc_y_'+group+'.txt', 'body_acc_z_'+group+'.txt']\n",
    "\t# body gyroscope\n",
    "\tfilenames += ['body_gyro_x_'+group+'.txt', 'body_gyro_y_'+group+'.txt', 'body_gyro_z_'+group+'.txt']\n",
    "\t# load input data\n",
    "\tX = load_group(filenames, filepath)\n",
    "\t# load class output\n",
    "\ty = load_file(prefix + group + '/y_'+group+'.txt')\n",
    "\treturn X, y\n",
    "\n",
    "# load the dataset, returns train and test X and y elements\n",
    "def load_dataset(prefix=''):\n",
    "\t# load all train\n",
    "\ttrainX, trainy = load_dataset_group('train', prefix + 'HARDataset/')\n",
    "\tprint(trainX.shape, trainy.shape)\n",
    "\t# load all test\n",
    "\ttestX, testy = load_dataset_group('test', prefix + 'HARDataset/')\n",
    "\tprint(testX.shape, testy.shape)\n",
    "\t# zero-offset class values\n",
    "\ttrainy = trainy - 1\n",
    "\ttesty = testy - 1\n",
    "\t# one hot encode y\n",
    "\ttrainy = to_categorical(trainy)\n",
    "\ttesty = to_categorical(testy)\n",
    "\tprint(trainX.shape, trainy.shape, testX.shape, testy.shape)\n",
    "\treturn trainX, trainy, testX, testy\n",
    "\n",
    "# fit and evaluate a model\n",
    "def evaluate_model(trainX, trainy, testX, testy):\n",
    "\tverbose, epochs, batch_size = 0, 8, 64\n",
    "\tn_timesteps, n_features, n_outputs = trainX.shape[1], trainX.shape[2], trainy.shape[1]\n",
    "\tmodel = Sequential()\n",
    "\tmodel.add(LSTM(100, input_shape=(n_timesteps,n_features)))\n",
    "\tmodel.add(Dropout(0.5))\n",
    "\tmodel.add(Dense(100, activation='relu'))\n",
    "\tmodel.add(Dense(n_outputs, activation='softmax'))\n",
    "\tmodel.compile(loss='categorical_crossentropy', optimizer='adam', metrics=['accuracy'])\n",
    "\t# fit network\n",
    "\tmodel.fit(trainX, trainy, epochs=epochs, batch_size=batch_size, validation_data=(testX, testy))\n",
    "\t# evaluate model\n",
    "\t_, accuracy = model.evaluate(testX, testy, batch_size=batch_size)\n",
    "\treturn accuracy\n",
    "\n",
    "\n",
    "\n",
    "    \n",
    "trainX, trainy, testX, testy = load_dataset()\n",
    "score = evaluate_model(trainX, trainy, testX, testy)\n",
    "\n",
    "# run the experiment\n",
    "# run_experiment()"
   ]
  },
  {
   "cell_type": "code",
   "execution_count": null,
   "id": "da0c24e0",
   "metadata": {},
   "outputs": [],
   "source": [
    "score"
   ]
  }
 ],
 "metadata": {
  "kernelspec": {
   "display_name": "Python 3",
   "language": "python",
   "name": "python3"
  },
  "language_info": {
   "codemirror_mode": {
    "name": "ipython",
    "version": 3
   },
   "file_extension": ".py",
   "mimetype": "text/x-python",
   "name": "python",
   "nbconvert_exporter": "python",
   "pygments_lexer": "ipython3",
   "version": "3.8.10"
  }
 },
 "nbformat": 4,
 "nbformat_minor": 5
}
