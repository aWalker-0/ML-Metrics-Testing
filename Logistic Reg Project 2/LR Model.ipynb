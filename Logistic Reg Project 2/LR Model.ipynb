{
 "cells": [
  {
   "cell_type": "code",
   "execution_count": 52,
   "id": "5d1eeff2",
   "metadata": {},
   "outputs": [],
   "source": [
    "\"\"\"\n",
    "Sources:\n",
    "https://towardsdatascience.com/logistic-regression-a-simplified-approach-using-python-c4bc81a87c31\n",
    "https://machinelearningmastery.com/roc-curves-and-precision-recall-curves-for-classification-in-python/\n",
    "https://scikit-learn.org/stable/modules/generated/sklearn.metrics.classification_report.html\n",
    "\"\"\"\n",
    "\n",
    "\n",
    "# Import libraries\n",
    "import numpy as np\n",
    "import pandas as pd"
   ]
  },
  {
   "cell_type": "code",
   "execution_count": 53,
   "id": "fe4b8083",
   "metadata": {},
   "outputs": [],
   "source": [
    "# Import packages for visualization\n",
    "import matplotlib.pyplot as plt\n",
    "import seaborn as sns\n",
    "%matplotlib inline"
   ]
  },
  {
   "cell_type": "code",
   "execution_count": 54,
   "id": "347def3d",
   "metadata": {},
   "outputs": [
    {
     "data": {
      "text/plain": "   PassengerId  Survived  Pclass  \\\n0            1         0       3   \n1            2         1       1   \n2            3         1       3   \n3            4         1       1   \n4            5         0       3   \n\n                                                Name     Sex   Age  SibSp  \\\n0                            Braund, Mr. Owen Harris    male  22.0      1   \n1  Cumings, Mrs. John Bradley (Florence Briggs Th...  female  38.0      1   \n2                             Heikkinen, Miss. Laina  female  26.0      0   \n3       Futrelle, Mrs. Jacques Heath (Lily May Peel)  female  35.0      1   \n4                           Allen, Mr. William Henry    male  35.0      0   \n\n   Parch            Ticket     Fare Cabin Embarked  \n0      0         A/5 21171   7.2500   NaN        S  \n1      0          PC 17599  71.2833   C85        C  \n2      0  STON/O2. 3101282   7.9250   NaN        S  \n3      0            113803  53.1000  C123        S  \n4      0            373450   8.0500   NaN        S  ",
      "text/html": "<div>\n<style scoped>\n    .dataframe tbody tr th:only-of-type {\n        vertical-align: middle;\n    }\n\n    .dataframe tbody tr th {\n        vertical-align: top;\n    }\n\n    .dataframe thead th {\n        text-align: right;\n    }\n</style>\n<table border=\"1\" class=\"dataframe\">\n  <thead>\n    <tr style=\"text-align: right;\">\n      <th></th>\n      <th>PassengerId</th>\n      <th>Survived</th>\n      <th>Pclass</th>\n      <th>Name</th>\n      <th>Sex</th>\n      <th>Age</th>\n      <th>SibSp</th>\n      <th>Parch</th>\n      <th>Ticket</th>\n      <th>Fare</th>\n      <th>Cabin</th>\n      <th>Embarked</th>\n    </tr>\n  </thead>\n  <tbody>\n    <tr>\n      <th>0</th>\n      <td>1</td>\n      <td>0</td>\n      <td>3</td>\n      <td>Braund, Mr. Owen Harris</td>\n      <td>male</td>\n      <td>22.0</td>\n      <td>1</td>\n      <td>0</td>\n      <td>A/5 21171</td>\n      <td>7.2500</td>\n      <td>NaN</td>\n      <td>S</td>\n    </tr>\n    <tr>\n      <th>1</th>\n      <td>2</td>\n      <td>1</td>\n      <td>1</td>\n      <td>Cumings, Mrs. John Bradley (Florence Briggs Th...</td>\n      <td>female</td>\n      <td>38.0</td>\n      <td>1</td>\n      <td>0</td>\n      <td>PC 17599</td>\n      <td>71.2833</td>\n      <td>C85</td>\n      <td>C</td>\n    </tr>\n    <tr>\n      <th>2</th>\n      <td>3</td>\n      <td>1</td>\n      <td>3</td>\n      <td>Heikkinen, Miss. Laina</td>\n      <td>female</td>\n      <td>26.0</td>\n      <td>0</td>\n      <td>0</td>\n      <td>STON/O2. 3101282</td>\n      <td>7.9250</td>\n      <td>NaN</td>\n      <td>S</td>\n    </tr>\n    <tr>\n      <th>3</th>\n      <td>4</td>\n      <td>1</td>\n      <td>1</td>\n      <td>Futrelle, Mrs. Jacques Heath (Lily May Peel)</td>\n      <td>female</td>\n      <td>35.0</td>\n      <td>1</td>\n      <td>0</td>\n      <td>113803</td>\n      <td>53.1000</td>\n      <td>C123</td>\n      <td>S</td>\n    </tr>\n    <tr>\n      <th>4</th>\n      <td>5</td>\n      <td>0</td>\n      <td>3</td>\n      <td>Allen, Mr. William Henry</td>\n      <td>male</td>\n      <td>35.0</td>\n      <td>0</td>\n      <td>0</td>\n      <td>373450</td>\n      <td>8.0500</td>\n      <td>NaN</td>\n      <td>S</td>\n    </tr>\n  </tbody>\n</table>\n</div>"
     },
     "execution_count": 54,
     "metadata": {},
     "output_type": "execute_result"
    }
   ],
   "source": [
    "# Import Titanic dataset\n",
    "train = pd.read_csv('train.csv')\n",
    "train.head()"
   ]
  },
  {
   "cell_type": "code",
   "execution_count": 55,
   "id": "76eae61b",
   "metadata": {},
   "outputs": [
    {
     "data": {
      "text/plain": "     PassengerId  Survived  Pclass   Name    Sex    Age  SibSp  Parch  Ticket  \\\n0          False     False   False  False  False  False  False  False   False   \n1          False     False   False  False  False  False  False  False   False   \n2          False     False   False  False  False  False  False  False   False   \n3          False     False   False  False  False  False  False  False   False   \n4          False     False   False  False  False  False  False  False   False   \n..           ...       ...     ...    ...    ...    ...    ...    ...     ...   \n886        False     False   False  False  False  False  False  False   False   \n887        False     False   False  False  False  False  False  False   False   \n888        False     False   False  False  False   True  False  False   False   \n889        False     False   False  False  False  False  False  False   False   \n890        False     False   False  False  False  False  False  False   False   \n\n      Fare  Cabin  Embarked  \n0    False   True     False  \n1    False  False     False  \n2    False   True     False  \n3    False  False     False  \n4    False   True     False  \n..     ...    ...       ...  \n886  False   True     False  \n887  False  False     False  \n888  False   True     False  \n889  False  False     False  \n890  False   True     False  \n\n[891 rows x 12 columns]",
      "text/html": "<div>\n<style scoped>\n    .dataframe tbody tr th:only-of-type {\n        vertical-align: middle;\n    }\n\n    .dataframe tbody tr th {\n        vertical-align: top;\n    }\n\n    .dataframe thead th {\n        text-align: right;\n    }\n</style>\n<table border=\"1\" class=\"dataframe\">\n  <thead>\n    <tr style=\"text-align: right;\">\n      <th></th>\n      <th>PassengerId</th>\n      <th>Survived</th>\n      <th>Pclass</th>\n      <th>Name</th>\n      <th>Sex</th>\n      <th>Age</th>\n      <th>SibSp</th>\n      <th>Parch</th>\n      <th>Ticket</th>\n      <th>Fare</th>\n      <th>Cabin</th>\n      <th>Embarked</th>\n    </tr>\n  </thead>\n  <tbody>\n    <tr>\n      <th>0</th>\n      <td>False</td>\n      <td>False</td>\n      <td>False</td>\n      <td>False</td>\n      <td>False</td>\n      <td>False</td>\n      <td>False</td>\n      <td>False</td>\n      <td>False</td>\n      <td>False</td>\n      <td>True</td>\n      <td>False</td>\n    </tr>\n    <tr>\n      <th>1</th>\n      <td>False</td>\n      <td>False</td>\n      <td>False</td>\n      <td>False</td>\n      <td>False</td>\n      <td>False</td>\n      <td>False</td>\n      <td>False</td>\n      <td>False</td>\n      <td>False</td>\n      <td>False</td>\n      <td>False</td>\n    </tr>\n    <tr>\n      <th>2</th>\n      <td>False</td>\n      <td>False</td>\n      <td>False</td>\n      <td>False</td>\n      <td>False</td>\n      <td>False</td>\n      <td>False</td>\n      <td>False</td>\n      <td>False</td>\n      <td>False</td>\n      <td>True</td>\n      <td>False</td>\n    </tr>\n    <tr>\n      <th>3</th>\n      <td>False</td>\n      <td>False</td>\n      <td>False</td>\n      <td>False</td>\n      <td>False</td>\n      <td>False</td>\n      <td>False</td>\n      <td>False</td>\n      <td>False</td>\n      <td>False</td>\n      <td>False</td>\n      <td>False</td>\n    </tr>\n    <tr>\n      <th>4</th>\n      <td>False</td>\n      <td>False</td>\n      <td>False</td>\n      <td>False</td>\n      <td>False</td>\n      <td>False</td>\n      <td>False</td>\n      <td>False</td>\n      <td>False</td>\n      <td>False</td>\n      <td>True</td>\n      <td>False</td>\n    </tr>\n    <tr>\n      <th>...</th>\n      <td>...</td>\n      <td>...</td>\n      <td>...</td>\n      <td>...</td>\n      <td>...</td>\n      <td>...</td>\n      <td>...</td>\n      <td>...</td>\n      <td>...</td>\n      <td>...</td>\n      <td>...</td>\n      <td>...</td>\n    </tr>\n    <tr>\n      <th>886</th>\n      <td>False</td>\n      <td>False</td>\n      <td>False</td>\n      <td>False</td>\n      <td>False</td>\n      <td>False</td>\n      <td>False</td>\n      <td>False</td>\n      <td>False</td>\n      <td>False</td>\n      <td>True</td>\n      <td>False</td>\n    </tr>\n    <tr>\n      <th>887</th>\n      <td>False</td>\n      <td>False</td>\n      <td>False</td>\n      <td>False</td>\n      <td>False</td>\n      <td>False</td>\n      <td>False</td>\n      <td>False</td>\n      <td>False</td>\n      <td>False</td>\n      <td>False</td>\n      <td>False</td>\n    </tr>\n    <tr>\n      <th>888</th>\n      <td>False</td>\n      <td>False</td>\n      <td>False</td>\n      <td>False</td>\n      <td>False</td>\n      <td>True</td>\n      <td>False</td>\n      <td>False</td>\n      <td>False</td>\n      <td>False</td>\n      <td>True</td>\n      <td>False</td>\n    </tr>\n    <tr>\n      <th>889</th>\n      <td>False</td>\n      <td>False</td>\n      <td>False</td>\n      <td>False</td>\n      <td>False</td>\n      <td>False</td>\n      <td>False</td>\n      <td>False</td>\n      <td>False</td>\n      <td>False</td>\n      <td>False</td>\n      <td>False</td>\n    </tr>\n    <tr>\n      <th>890</th>\n      <td>False</td>\n      <td>False</td>\n      <td>False</td>\n      <td>False</td>\n      <td>False</td>\n      <td>False</td>\n      <td>False</td>\n      <td>False</td>\n      <td>False</td>\n      <td>False</td>\n      <td>True</td>\n      <td>False</td>\n    </tr>\n  </tbody>\n</table>\n<p>891 rows × 12 columns</p>\n</div>"
     },
     "execution_count": 55,
     "metadata": {},
     "output_type": "execute_result"
    }
   ],
   "source": [
    "# Find samples with empty (null) feature points\n",
    "train.isnull()"
   ]
  },
  {
   "cell_type": "code",
   "execution_count": 56,
   "id": "c9d8ea81",
   "metadata": {},
   "outputs": [
    {
     "data": {
      "text/plain": "<AxesSubplot:>"
     },
     "execution_count": 56,
     "metadata": {},
     "output_type": "execute_result"
    },
    {
     "data": {
      "text/plain": "<Figure size 432x288 with 2 Axes>",
      "image/png": "[encoded data removed]"
     },
     "metadata": {
      "needs_background": "light"
     },
     "output_type": "display_data"
    }
   ],
   "source": [
    "# Visualize empty data points\n",
    "sns.heatmap(train.isnull())\n",
    "# We can see here that there are many null points in the Cabin and Age features"
   ]
  },
  {
   "cell_type": "code",
   "execution_count": 57,
   "id": "0a1d6989",
   "metadata": {},
   "outputs": [
    {
     "data": {
      "text/plain": "<AxesSubplot:xlabel='Survived', ylabel='count'>"
     },
     "execution_count": 57,
     "metadata": {},
     "output_type": "execute_result"
    },
    {
     "data": {
      "text/plain": "<Figure size 432x288 with 1 Axes>",
      "image/png": "[encoded data removed]"
     },
     "metadata": {
      "needs_background": "light"
     },
     "output_type": "display_data"
    }
   ],
   "source": [
    "# Have fun with data; mess around with it\n",
    "sns.countplot(x=\"Survived\", data=train)"
   ]
  },
  {
   "cell_type": "code",
   "execution_count": 58,
   "id": "b682bcc3",
   "metadata": {},
   "outputs": [
    {
     "data": {
      "text/plain": "<AxesSubplot:xlabel='Survived', ylabel='count'>"
     },
     "execution_count": 58,
     "metadata": {},
     "output_type": "execute_result"
    },
    {
     "data": {
      "text/plain": "<Figure size 432x288 with 1 Axes>",
      "image/png": "[encoded data removed]"
     },
     "metadata": {
      "needs_background": "light"
     },
     "output_type": "display_data"
    }
   ],
   "source": [
    "# Do more with data (Added hue aspect)\n",
    "sns.countplot(x='Survived', hue='Sex', data=train)\n",
    "\n",
    "# We can see that more females survived than males"
   ]
  },
  {
   "cell_type": "code",
   "execution_count": 59,
   "id": "46b7988e",
   "metadata": {},
   "outputs": [
    {
     "data": {
      "text/plain": "<AxesSubplot:xlabel='Survived', ylabel='count'>"
     },
     "execution_count": 59,
     "metadata": {},
     "output_type": "execute_result"
    },
    {
     "data": {
      "text/plain": "<Figure size 432x288 with 1 Axes>",
      "image/png": "[encoded data removed]"
     },
     "metadata": {
      "needs_background": "light"
     },
     "output_type": "display_data"
    }
   ],
   "source": [
    "# Do more with data (Change hue to passenger class)\n",
    "sns.countplot(x='Survived', hue='Pclass', data=train)\n",
    "\n",
    "# Many more in 3rd class died "
   ]
  },
  {
   "cell_type": "code",
   "execution_count": 60,
   "id": "65900b71",
   "metadata": {
    "pycharm": {
     "name": "#%%\n"
    }
   },
   "outputs": [
    {
     "data": {
      "text/plain": "<AxesSubplot:xlabel='Pclass', ylabel='Age'>"
     },
     "execution_count": 60,
     "metadata": {},
     "output_type": "execute_result"
    },
    {
     "data": {
      "text/plain": "<Figure size 864x504 with 1 Axes>",
      "image/png": "[encoded data removed]"
     },
     "metadata": {
      "needs_background": "light"
     },
     "output_type": "display_data"
    }
   ],
   "source": [
    "# Graph the ages of passengers to better predict mean ages\n",
    "plt.figure(figsize=(12,7))\n",
    "sns.boxplot(x='Pclass', y='Age', data=train, palette='winter')\n",
    "\n",
    "# We see that those in first class tend to be older"
   ]
  },
  {
   "cell_type": "code",
   "execution_count": 61,
   "outputs": [],
   "source": [
    "# Create function to return ages appropriate for each class\n",
    "def impute_age(cols):\n",
    "    Age = cols[0]\n",
    "    Pclass = cols[1]\n",
    "\n",
    "    if pd.isnull(Age):\n",
    "        if Pclass == 1:\n",
    "            return 37\n",
    "\n",
    "        elif Pclass == 2:\n",
    "            return 29\n",
    "\n",
    "        else:\n",
    "            return 24\n",
    "    else:\n",
    "        return Age"
   ],
   "metadata": {
    "collapsed": false,
    "pycharm": {
     "name": "#%%\n"
    }
   }
  },
  {
   "cell_type": "code",
   "execution_count": 62,
   "outputs": [],
   "source": [
    "# Apply function to data\n",
    "train['Age'] = train[['Age', 'Pclass']].apply(impute_age, axis = 1)"
   ],
   "metadata": {
    "collapsed": false,
    "pycharm": {
     "name": "#%%\n"
    }
   }
  },
  {
   "cell_type": "code",
   "execution_count": 63,
   "outputs": [
    {
     "data": {
      "text/plain": "<AxesSubplot:>"
     },
     "execution_count": 63,
     "metadata": {},
     "output_type": "execute_result"
    },
    {
     "data": {
      "text/plain": "<Figure size 432x288 with 1 Axes>",
      "image/png": "[encoded data removed]"
     },
     "metadata": {
      "needs_background": "light"
     },
     "output_type": "display_data"
    }
   ],
   "source": [
    "# Check heatmap again to see if the data has been filled out\n",
    "sns.heatmap(train.isnull(),yticklabels=False,cbar=False)\n"
   ],
   "metadata": {
    "collapsed": false,
    "pycharm": {
     "name": "#%%\n"
    }
   }
  },
  {
   "cell_type": "code",
   "execution_count": 64,
   "outputs": [],
   "source": [
    "# Drop cabin column\n",
    "train.drop('Cabin', axis=1, inplace=True)\n"
   ],
   "metadata": {
    "collapsed": false,
    "pycharm": {
     "name": "#%%\n"
    }
   }
  },
  {
   "cell_type": "code",
   "execution_count": 65,
   "outputs": [
    {
     "name": "stdout",
     "output_type": "stream",
     "text": [
      "<class 'pandas.core.frame.DataFrame'>\n",
      "RangeIndex: 891 entries, 0 to 890\n",
      "Data columns (total 11 columns):\n",
      " #   Column       Non-Null Count  Dtype  \n",
      "---  ------       --------------  -----  \n",
      " 0   PassengerId  891 non-null    int64  \n",
      " 1   Survived     891 non-null    int64  \n",
      " 2   Pclass       891 non-null    int64  \n",
      " 3   Name         891 non-null    object \n",
      " 4   Sex          891 non-null    object \n",
      " 5   Age          891 non-null    float64\n",
      " 6   SibSp        891 non-null    int64  \n",
      " 7   Parch        891 non-null    int64  \n",
      " 8   Ticket       891 non-null    object \n",
      " 9   Fare         891 non-null    float64\n",
      " 10  Embarked     889 non-null    object \n",
      "dtypes: float64(2), int64(5), object(4)\n",
      "memory usage: 76.7+ KB\n"
     ]
    }
   ],
   "source": [
    "# We must now convert categorical features into values that the algorithm can understand\n",
    "train.info()\n"
   ],
   "metadata": {
    "collapsed": false,
    "pycharm": {
     "name": "#%%\n"
    }
   }
  },
  {
   "cell_type": "code",
   "execution_count": 66,
   "outputs": [],
   "source": [
    "# Convert features into dummy characters\n",
    "sex = pd.get_dummies(train['Sex'], drop_first=True)\n",
    "embark = pd.get_dummies(train['Embarked'], drop_first=True)"
   ],
   "metadata": {
    "collapsed": false,
    "pycharm": {
     "name": "#%%\n"
    }
   }
  },
  {
   "cell_type": "code",
   "execution_count": 67,
   "outputs": [],
   "source": [
    "# Now that we converted the features we needed, we can drop the old ones with some that we do not need\n",
    "train.drop(['Sex', 'Embarked', 'Name', 'Ticket'], axis=1, inplace=True)"
   ],
   "metadata": {
    "collapsed": false,
    "pycharm": {
     "name": "#%%\n"
    }
   }
  },
  {
   "cell_type": "code",
   "execution_count": 68,
   "outputs": [],
   "source": [
    "# Concatenate the converted features back\n",
    "train = pd.concat([train,sex,embark], axis=1)"
   ],
   "metadata": {
    "collapsed": false,
    "pycharm": {
     "name": "#%%\n"
    }
   }
  },
  {
   "cell_type": "code",
   "execution_count": 69,
   "outputs": [
    {
     "data": {
      "text/plain": "   PassengerId  Survived  Pclass   Age  SibSp  Parch     Fare  male  Q  S\n0            1         0       3  22.0      1      0   7.2500     1  0  1\n1            2         1       1  38.0      1      0  71.2833     0  0  0\n2            3         1       3  26.0      0      0   7.9250     0  0  1\n3            4         1       1  35.0      1      0  53.1000     0  0  1\n4            5         0       3  35.0      0      0   8.0500     1  0  1",
      "text/html": "<div>\n<style scoped>\n    .dataframe tbody tr th:only-of-type {\n        vertical-align: middle;\n    }\n\n    .dataframe tbody tr th {\n        vertical-align: top;\n    }\n\n    .dataframe thead th {\n        text-align: right;\n    }\n</style>\n<table border=\"1\" class=\"dataframe\">\n  <thead>\n    <tr style=\"text-align: right;\">\n      <th></th>\n      <th>PassengerId</th>\n      <th>Survived</th>\n      <th>Pclass</th>\n      <th>Age</th>\n      <th>SibSp</th>\n      <th>Parch</th>\n      <th>Fare</th>\n      <th>male</th>\n      <th>Q</th>\n      <th>S</th>\n    </tr>\n  </thead>\n  <tbody>\n    <tr>\n      <th>0</th>\n      <td>1</td>\n      <td>0</td>\n      <td>3</td>\n      <td>22.0</td>\n      <td>1</td>\n      <td>0</td>\n      <td>7.2500</td>\n      <td>1</td>\n      <td>0</td>\n      <td>1</td>\n    </tr>\n    <tr>\n      <th>1</th>\n      <td>2</td>\n      <td>1</td>\n      <td>1</td>\n      <td>38.0</td>\n      <td>1</td>\n      <td>0</td>\n      <td>71.2833</td>\n      <td>0</td>\n      <td>0</td>\n      <td>0</td>\n    </tr>\n    <tr>\n      <th>2</th>\n      <td>3</td>\n      <td>1</td>\n      <td>3</td>\n      <td>26.0</td>\n      <td>0</td>\n      <td>0</td>\n      <td>7.9250</td>\n      <td>0</td>\n      <td>0</td>\n      <td>1</td>\n    </tr>\n    <tr>\n      <th>3</th>\n      <td>4</td>\n      <td>1</td>\n      <td>1</td>\n      <td>35.0</td>\n      <td>1</td>\n      <td>0</td>\n      <td>53.1000</td>\n      <td>0</td>\n      <td>0</td>\n      <td>1</td>\n    </tr>\n    <tr>\n      <th>4</th>\n      <td>5</td>\n      <td>0</td>\n      <td>3</td>\n      <td>35.0</td>\n      <td>0</td>\n      <td>0</td>\n      <td>8.0500</td>\n      <td>1</td>\n      <td>0</td>\n      <td>1</td>\n    </tr>\n  </tbody>\n</table>\n</div>"
     },
     "execution_count": 69,
     "metadata": {},
     "output_type": "execute_result"
    }
   ],
   "source": [
    "# Look at how the dataset looks now\n",
    "train.head()"
   ],
   "metadata": {
    "collapsed": false,
    "pycharm": {
     "name": "#%%\n"
    }
   }
  },
  {
   "cell_type": "code",
   "execution_count": 70,
   "outputs": [],
   "source": [
    "# Test train split (splits our training data into a train set and a test set)\n",
    "from sklearn.model_selection import train_test_split\n",
    "X_train, X_test, y_train, y_test = train_test_split(train.drop('Survived',axis=1),\n",
    "                                                    train['Survived'], test_size=0.30,\n",
    "                                                    random_state=101)\n"
   ],
   "metadata": {
    "collapsed": false,
    "pycharm": {
     "name": "#%%\n"
    }
   }
  },
  {
   "cell_type": "code",
   "execution_count": 71,
   "outputs": [],
   "source": [
    "# Import logistic regression algorithm and train it\n",
    "from sklearn.linear_model import LogisticRegression\n",
    "logmodel = LogisticRegression(max_iter=1000)\n",
    "logmodel.fit(X_train, y_train)\n",
    "predictions = logmodel.predict (X_test)"
   ],
   "metadata": {
    "collapsed": false,
    "pycharm": {
     "name": "#%%\n"
    }
   }
  },
  {
   "cell_type": "code",
   "execution_count": 72,
   "outputs": [
    {
     "name": "stdout",
     "output_type": "stream",
     "text": [
      "              precision    recall  f1-score   support\n",
      "\n",
      "        Died       0.78      0.87      0.82       154\n",
      "    Survived       0.79      0.68      0.73       114\n",
      "\n",
      "    accuracy                           0.79       268\n",
      "   macro avg       0.79      0.77      0.78       268\n",
      "weighted avg       0.79      0.79      0.78       268\n",
      "\n"
     ]
    }
   ],
   "source": [
    "# Evaluate the model\n",
    "from sklearn.metrics import classification_report\n",
    "from sklearn.metrics import log_loss\n",
    "print(classification_report(y_test,predictions, target_names=[\"Died\", \"Survived\"]))\n"
   ],
   "metadata": {
    "collapsed": false,
    "pycharm": {
     "name": "#%%\n"
    }
   }
  },
  {
   "cell_type": "code",
   "execution_count": 78,
   "outputs": [
    {
     "name": "stdout",
     "output_type": "stream",
     "text": [
      "[[0.69974053 0.30025947]\n",
      " [0.02095819 0.97904181]\n",
      " [0.47357052 0.52642948]\n",
      " [0.81817824 0.18182176]\n",
      " [0.79350602 0.20649398]\n",
      " [0.94484798 0.05515202]\n",
      " [0.60442067 0.39557933]\n",
      " [0.89516539 0.10483461]\n",
      " [0.12038179 0.87961821]\n",
      " [0.38238208 0.61761792]\n",
      " [0.79558128 0.20441872]\n",
      " [0.92264806 0.07735194]\n",
      " [0.27916152 0.72083848]\n",
      " [0.90529368 0.09470632]\n",
      " [0.89686376 0.10313624]\n",
      " [0.94818695 0.05181305]\n",
      " [0.39382133 0.60617867]\n",
      " [0.87010927 0.12989073]\n",
      " [0.85466198 0.14533802]\n",
      " [0.22198463 0.77801537]\n",
      " [0.93101467 0.06898533]\n",
      " [0.94747888 0.05252112]\n",
      " [0.30517783 0.69482217]\n",
      " [0.38003812 0.61996188]\n",
      " [0.95389816 0.04610184]\n",
      " [0.79664443 0.20335557]\n",
      " [0.87296381 0.12703619]\n",
      " [0.76014101 0.23985899]\n",
      " [0.90882986 0.09117014]\n",
      " [0.94645916 0.05354084]\n",
      " [0.1913342  0.8086658 ]\n",
      " [0.13959901 0.86040099]\n",
      " [0.32341494 0.67658506]\n",
      " [0.91602966 0.08397034]\n",
      " [0.90515001 0.09484999]\n",
      " [0.05123333 0.94876667]\n",
      " [0.92073117 0.07926883]\n",
      " [0.95092551 0.04907449]\n",
      " [0.90068487 0.09931513]\n",
      " [0.55437583 0.44562417]\n",
      " [0.30081018 0.69918982]\n",
      " [0.38481334 0.61518666]\n",
      " [0.12280319 0.87719681]\n",
      " [0.67329736 0.32670264]\n",
      " [0.83653311 0.16346689]\n",
      " [0.62352824 0.37647176]\n",
      " [0.94939055 0.05060945]\n",
      " [0.68902385 0.31097615]\n",
      " [0.93833641 0.06166359]\n",
      " [0.78753125 0.21246875]\n",
      " [0.21727713 0.78272287]\n",
      " [0.72460837 0.27539163]\n",
      " [0.27051035 0.72948965]\n",
      " [0.32475705 0.67524295]\n",
      " [0.311306   0.688694  ]\n",
      " [0.90539692 0.09460308]\n",
      " [0.84681316 0.15318684]\n",
      " [0.87220573 0.12779427]\n",
      " [0.71063523 0.28936477]\n",
      " [0.06688568 0.93311432]\n",
      " [0.07243763 0.92756237]\n",
      " [0.87930364 0.12069636]\n",
      " [0.96240561 0.03759439]\n",
      " [0.41366558 0.58633442]\n",
      " [0.94366064 0.05633936]\n",
      " [0.73550893 0.26449107]\n",
      " [0.16808957 0.83191043]\n",
      " [0.42465415 0.57534585]\n",
      " [0.3952154  0.6047846 ]\n",
      " [0.633477   0.366523  ]\n",
      " [0.42522858 0.57477142]\n",
      " [0.8683426  0.1316574 ]\n",
      " [0.85857867 0.14142133]\n",
      " [0.87497772 0.12502228]\n",
      " [0.44857852 0.55142148]\n",
      " [0.06997542 0.93002458]\n",
      " [0.93374316 0.06625684]\n",
      " [0.89798012 0.10201988]\n",
      " [0.89764132 0.10235868]\n",
      " [0.76006041 0.23993959]\n",
      " [0.98868021 0.01131979]\n",
      " [0.06346326 0.93653674]\n",
      " [0.85567194 0.14432806]\n",
      " [0.9213311  0.0786689 ]\n",
      " [0.24591348 0.75408652]\n",
      " [0.89482846 0.10517154]\n",
      " [0.86409856 0.13590144]\n",
      " [0.45872278 0.54127722]\n",
      " [0.89767743 0.10232257]\n",
      " [0.36111319 0.63888681]\n",
      " [0.85613594 0.14386406]\n",
      " [0.49248356 0.50751644]\n",
      " [0.02438825 0.97561175]\n",
      " [0.15476982 0.84523018]\n",
      " [0.46102556 0.53897444]\n",
      " [0.18545836 0.81454164]\n",
      " [0.28493373 0.71506627]\n",
      " [0.86771401 0.13228599]\n",
      " [0.8679088  0.1320912 ]\n",
      " [0.84434954 0.15565046]\n",
      " [0.92329684 0.07670316]\n",
      " [0.17491671 0.82508329]\n",
      " [0.66031189 0.33968811]\n",
      " [0.88780249 0.11219751]\n",
      " [0.36172856 0.63827144]\n",
      " [0.38177825 0.61822175]\n",
      " [0.16982039 0.83017961]\n",
      " [0.10025455 0.89974545]\n",
      " [0.29681686 0.70318314]\n",
      " [0.62947659 0.37052341]\n",
      " [0.66951581 0.33048419]\n",
      " [0.59209083 0.40790917]\n",
      " [0.76503879 0.23496121]\n",
      " [0.88786423 0.11213577]\n",
      " [0.4496377  0.5503623 ]\n",
      " [0.70088674 0.29911326]\n",
      " [0.14367365 0.85632635]\n",
      " [0.83200302 0.16799698]\n",
      " [0.7711595  0.2288405 ]\n",
      " [0.31958154 0.68041846]\n",
      " [0.51958657 0.48041343]\n",
      " [0.9484356  0.0515644 ]\n",
      " [0.09509731 0.90490269]\n",
      " [0.88919303 0.11080697]\n",
      " [0.61007896 0.38992104]\n",
      " [0.90477687 0.09522313]\n",
      " [0.61067905 0.38932095]\n",
      " [0.92772446 0.07227554]\n",
      " [0.11804586 0.88195414]\n",
      " [0.74568933 0.25431067]\n",
      " [0.03764977 0.96235023]\n",
      " [0.26392164 0.73607836]\n",
      " [0.07999999 0.92000001]\n",
      " [0.92384819 0.07615181]\n",
      " [0.93178238 0.06821762]\n",
      " [0.89075562 0.10924438]\n",
      " [0.94616656 0.05383344]\n",
      " [0.94623282 0.05376718]\n",
      " [0.90082404 0.09917596]\n",
      " [0.15972295 0.84027705]\n",
      " [0.92223853 0.07776147]\n",
      " [0.38960124 0.61039876]\n",
      " [0.89240012 0.10759988]\n",
      " [0.91119591 0.08880409]\n",
      " [0.46071248 0.53928752]\n",
      " [0.91525347 0.08474653]\n",
      " [0.03986371 0.96013629]\n",
      " [0.49886708 0.50113292]\n",
      " [0.94024461 0.05975539]\n",
      " [0.85018697 0.14981303]\n",
      " [0.17399687 0.82600313]\n",
      " [0.37316966 0.62683034]\n",
      " [0.63876305 0.36123695]\n",
      " [0.89475258 0.10524742]\n",
      " [0.85437682 0.14562318]\n",
      " [0.64337106 0.35662894]\n",
      " [0.3255451  0.6744549 ]\n",
      " [0.54396015 0.45603985]\n",
      " [0.16224437 0.83775563]\n",
      " [0.05351487 0.94648513]\n",
      " [0.76838105 0.23161895]\n",
      " [0.86466383 0.13533617]\n",
      " [0.47994989 0.52005011]\n",
      " [0.89065674 0.10934326]\n",
      " [0.24349462 0.75650538]\n",
      " [0.21991645 0.78008355]\n",
      " [0.90578235 0.09421765]\n",
      " [0.06017095 0.93982905]\n",
      " [0.77505223 0.22494777]\n",
      " [0.72086644 0.27913356]\n",
      " [0.10787584 0.89212416]\n",
      " [0.87104258 0.12895742]\n",
      " [0.50586684 0.49413316]\n",
      " [0.06836046 0.93163954]\n",
      " [0.90480116 0.09519884]\n",
      " [0.89959301 0.10040699]\n",
      " [0.12337328 0.87662672]\n",
      " [0.95661637 0.04338363]\n",
      " [0.79396513 0.20603487]\n",
      " [0.73248825 0.26751175]\n",
      " [0.72617872 0.27382128]\n",
      " [0.92103197 0.07896803]\n",
      " [0.08184769 0.91815231]\n",
      " [0.09386984 0.90613016]\n",
      " [0.30670373 0.69329627]\n",
      " [0.93971824 0.06028176]\n",
      " [0.90163945 0.09836055]\n",
      " [0.51736159 0.48263841]\n",
      " [0.97749256 0.02250744]\n",
      " [0.91948067 0.08051933]\n",
      " [0.94902224 0.05097776]\n",
      " [0.90398676 0.09601324]\n",
      " [0.83671107 0.16328893]\n",
      " [0.20577968 0.79422032]\n",
      " [0.54730246 0.45269754]\n",
      " [0.95493772 0.04506228]\n",
      " [0.9003692  0.0996308 ]\n",
      " [0.43820116 0.56179884]\n",
      " [0.702829   0.297171  ]\n",
      " [0.96380126 0.03619874]\n",
      " [0.4909616  0.5090384 ]\n",
      " [0.56250071 0.43749929]\n",
      " [0.91754334 0.08245666]\n",
      " [0.10216245 0.89783755]\n",
      " [0.92441669 0.07558331]\n",
      " [0.75364835 0.24635165]\n",
      " [0.8894976  0.1105024 ]\n",
      " [0.52469497 0.47530503]\n",
      " [0.25762422 0.74237578]\n",
      " [0.97593154 0.02406846]\n",
      " [0.68800697 0.31199303]\n",
      " [0.71133655 0.28866345]\n",
      " [0.88163678 0.11836322]\n",
      " [0.87907485 0.12092515]\n",
      " [0.74719912 0.25280088]\n",
      " [0.82568617 0.17431383]\n",
      " [0.85150017 0.14849983]\n",
      " [0.05577661 0.94422339]\n",
      " [0.8929379  0.1070621 ]\n",
      " [0.31066988 0.68933012]\n",
      " [0.28895877 0.71104123]\n",
      " [0.68950846 0.31049154]\n",
      " [0.59518081 0.40481919]\n",
      " [0.86439137 0.13560863]\n",
      " [0.87113577 0.12886423]\n",
      " [0.69173656 0.30826344]\n",
      " [0.90209776 0.09790224]\n",
      " [0.89773733 0.10226267]\n",
      " [0.89582691 0.10417309]\n",
      " [0.85959154 0.14040846]\n",
      " [0.8392044  0.1607956 ]\n",
      " [0.45494074 0.54505926]\n",
      " [0.52830746 0.47169254]\n",
      " [0.38371351 0.61628649]\n",
      " [0.30165827 0.69834173]\n",
      " [0.88076307 0.11923693]\n",
      " [0.57854564 0.42145436]\n",
      " [0.33339278 0.66660722]\n",
      " [0.24135346 0.75864654]\n",
      " [0.91572919 0.08427081]\n",
      " [0.28549456 0.71450544]\n",
      " [0.11386602 0.88613398]\n",
      " [0.90863796 0.09136204]\n",
      " [0.8957058  0.1042942 ]\n",
      " [0.10806272 0.89193728]\n",
      " [0.22693749 0.77306251]\n",
      " [0.92549982 0.07450018]\n",
      " [0.84281365 0.15718635]\n",
      " [0.15153088 0.84846912]\n",
      " [0.47864629 0.52135371]\n",
      " [0.70901812 0.29098188]\n",
      " [0.17549728 0.82450272]\n",
      " [0.86174997 0.13825003]\n",
      " [0.75935302 0.24064698]\n",
      " [0.94772416 0.05227584]\n",
      " [0.88974406 0.11025594]\n",
      " [0.9086519  0.0913481 ]\n",
      " [0.90559072 0.09440928]\n",
      " [0.10096074 0.89903926]\n",
      " [0.86965954 0.13034046]\n",
      " [0.52963008 0.47036992]\n",
      " [0.01092989 0.98907011]\n",
      " [0.87465188 0.12534812]\n",
      " [0.86554622 0.13445378]\n",
      " [0.30874661 0.69125339]\n",
      " [0.65325708 0.34674292]\n",
      " [0.96181906 0.03818094]\n",
      " [0.14148622 0.85851378]]\n",
      "Log Loss: 0.4644322499300132\n"
     ]
    }
   ],
   "source": [
    "# Different metrics other than Precision, Recall, and F1\n",
    "\n",
    "# Get probabilities for log loss and ROC Curve\n",
    "lr_probs = logmodel.predict_proba(X_test)\n",
    "print(lr_probs)\n",
    "print(\"Log Loss:\", log_loss(y_test, lr_probs))"
   ],
   "metadata": {
    "collapsed": false,
    "pycharm": {
     "name": "#%%\n"
    }
   }
  },
  {
   "cell_type": "code",
   "execution_count": 74,
   "outputs": [
    {
     "data": {
      "text/plain": "<sklearn.metrics._plot.roc_curve.RocCurveDisplay at 0x211be1fe0d0>"
     },
     "execution_count": 74,
     "metadata": {},
     "output_type": "execute_result"
    },
    {
     "data": {
      "text/plain": "<Figure size 432x288 with 1 Axes>",
      "image/png": "[encoded data removed]"
     },
     "metadata": {
      "needs_background": "light"
     },
     "output_type": "display_data"
    }
   ],
   "source": [
    "# Simple ROC plot\n",
    "from sklearn.metrics import plot_roc_curve, roc_curve, roc_auc_score\n",
    "plot_roc_curve(logmodel, X_test, y_test)\n"
   ],
   "metadata": {
    "collapsed": false,
    "pycharm": {
     "name": "#%%\n"
    }
   }
  },
  {
   "cell_type": "code",
   "execution_count": 75,
   "outputs": [
    {
     "name": "stdout",
     "output_type": "stream",
     "text": [
      "No Skill: ROC AUC=0.500\n",
      "Logistic: ROC AUC=0.853\n"
     ]
    },
    {
     "data": {
      "text/plain": "<Figure size 432x288 with 1 Axes>",
      "image/png": "[encoded data removed]"
     },
     "metadata": {
      "needs_background": "light"
     },
     "output_type": "display_data"
    }
   ],
   "source": [
    "# Manual creation of ROC curve\n",
    "\n",
    "# Define variables for probabilities\n",
    "ns_probs = [0 for _ in range(len(y_test))]\n",
    "# Logistic regression probabilities are calculated above\n",
    "lr_probs = lr_probs[:, 1]\n",
    "\n",
    "# calculate scores\n",
    "ns_auc = roc_auc_score(y_test, ns_probs)\n",
    "lr_auc = roc_auc_score(y_test, lr_probs)\n",
    "\n",
    "# summarize scores\n",
    "print('No Skill: ROC AUC=%.3f' % (ns_auc))\n",
    "print('Logistic: ROC AUC=%.3f' % (lr_auc))\n",
    "\n",
    "# calculate roc curves\n",
    "ns_fpr, ns_tpr, _ = roc_curve(y_test, ns_probs)\n",
    "lr_fpr, lr_tpr, _ = roc_curve(y_test, lr_probs)\n",
    "\n",
    "# plot the roc curve for the model\n",
    "plt.plot(ns_fpr, ns_tpr, linestyle='--', label='No Skill')\n",
    "plt.plot(lr_fpr, lr_tpr, marker='.', label='Logistic')\n",
    "\n",
    "# axis labels\n",
    "plt.xlabel('False Positive Rate')\n",
    "plt.ylabel('True Positive Rate')\n",
    "# show the legend\n",
    "plt.legend()\n",
    "# show the plot\n",
    "plt.show()"
   ],
   "metadata": {
    "collapsed": false,
    "pycharm": {
     "name": "#%%\n"
    }
   }
  },
  {
   "cell_type": "code",
   "execution_count": 76,
   "outputs": [
    {
     "name": "stdout",
     "output_type": "stream",
     "text": [
      "No Skill: ROC AUC=0.500\n",
      "Logistic: ROC AUC=0.853\n"
     ]
    },
    {
     "data": {
      "text/plain": "<Figure size 432x288 with 1 Axes>",
      "image/png": "[encoded data removed]"
     },
     "metadata": {
      "needs_background": "light"
     },
     "output_type": "display_data"
    }
   ],
   "source": [
    "# Manual creation of ROC curve\n",
    "\n",
    "# Define variables for probabilities\n",
    "ns_probs = [0 for _ in range(len(y_test))]\n",
    "lr_probs = logmodel.predict_proba(X_test)\n",
    "lr_probs = lr_probs[:, 1]\n",
    "\n",
    "# calculate scores\n",
    "ns_auc = roc_auc_score(y_test, ns_probs)\n",
    "lr_auc = roc_auc_score(y_test, lr_probs)\n",
    "\n",
    "# summarize scores\n",
    "print('No Skill: ROC AUC=%.3f' % (ns_auc))\n",
    "print('Logistic: ROC AUC=%.3f' % (lr_auc))\n",
    "\n",
    "# calculate roc curves\n",
    "ns_fpr, ns_tpr, _ = roc_curve(y_test, ns_probs)\n",
    "lr_fpr, lr_tpr, _ = roc_curve(y_test, lr_probs)\n",
    "\n",
    "# plot the roc curve for the model\n",
    "plt.plot(ns_fpr, ns_tpr, linestyle='--', label='No Skill')\n",
    "plt.plot(lr_fpr, lr_tpr, marker='.', label='Logistic')\n",
    "\n",
    "# axis labels\n",
    "plt.xlabel('False Positive Rate')\n",
    "plt.ylabel('True Positive Rate')\n",
    "# show the legend\n",
    "plt.legend()\n",
    "# show the plot\n",
    "plt.show()"
   ],
   "metadata": {
    "collapsed": false,
    "pycharm": {
     "name": "#%%\n"
    }
   }
  },
  {
   "cell_type": "code",
   "execution_count": 77,
   "outputs": [
    {
     "data": {
      "text/plain": "<sklearn.metrics._plot.confusion_matrix.ConfusionMatrixDisplay at 0x211bf5e0a60>"
     },
     "execution_count": 77,
     "metadata": {},
     "output_type": "execute_result"
    },
    {
     "data": {
      "text/plain": "<Figure size 432x288 with 2 Axes>",
      "image/png": "[encoded data removed]"
     },
     "metadata": {
      "needs_background": "light"
     },
     "output_type": "display_data"
    }
   ],
   "source": [
    "# Create and Display confusion matrix\n",
    "from sklearn.metrics import confusion_matrix, ConfusionMatrixDisplay\n",
    "cm = confusion_matrix(y_test, predictions)\n",
    "\n",
    "confMatDisplay = ConfusionMatrixDisplay(confusion_matrix=cm, display_labels=[\"Died\", \"Survived\"])\n",
    "confMatDisplay.plot()"
   ],
   "metadata": {
    "collapsed": false,
    "pycharm": {
     "name": "#%%\n"
    }
   }
  }
 ],
 "metadata": {
  "kernelspec": {
   "name": "tf",
   "language": "python",
   "display_name": "Python (tf)"
  },
  "language_info": {
   "codemirror_mode": {
    "name": "ipython",
    "version": 3
   },
   "file_extension": ".py",
   "mimetype": "text/x-python",
   "name": "python",
   "nbconvert_exporter": "python",
   "pygments_lexer": "ipython3",
   "version": "3.8.10"
  }
 },
 "nbformat": 4,
 "nbformat_minor": 5
}